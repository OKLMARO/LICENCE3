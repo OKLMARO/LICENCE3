{
 "cells": [
  {
   "cell_type": "code",
   "execution_count": 2,
   "id": "60bcf941",
   "metadata": {},
   "outputs": [],
   "source": [
    "# import des bibliothèques Python utiles:\n",
    "import numpy as np\n",
    "import sklearn.linear_model as lm \n",
    "from sklearn import datasets,  metrics\n",
    "import matplotlib.pyplot as plt\n",
    "\n",
    "# \"magic function\" Jupyter pour l'affichage des graphiques dans le carnet:\n",
    "%matplotlib inline\n",
    "\n"
   ]
  },
  {
   "cell_type": "markdown",
   "id": "6382a3d3",
   "metadata": {},
   "source": [
    "* chargement des données *\n",
    "\n",
    "Nous utilisérons  le dataset  diabetes du logiciel scikitlearn\n",
    "\n",
    "https://scikit-learn.org/stable/datasets/toy_dataset.html#diabetes-dataset\n",
    "\n",
    " Récupérez  ce jeu de données.\n",
    " \n",
    " Comprénez ce jeu de données. \n",
    " \n",
    " Combien d'attributs  existe-il (\"features\")?\n",
    " \n",
    " Que représentent des attributs?\n",
    " \n",
    " Que représente l'étiquette (\"target\")?  S'agit-il des réels ou non?\n",
    " \n",
    " Combien de données existe-il?\n",
    " \n",
    " Mettez les données sur la variable X et les étiquettes sur la variable y. Attention les données qui sont dans .data ne sont pas toutes des attributs (\"features\")\n",
    " \n",
    " Affichez les 5 prémières données?\n",
    "\n",
    " Affichez les 5 premières étiquettes?\n"
   ]
  },
  {
   "cell_type": "code",
   "execution_count": null,
   "id": "4744edcb",
   "metadata": {},
   "outputs": [],
   "source": []
  },
  {
   "cell_type": "markdown",
   "id": "a7c0b86e",
   "metadata": {},
   "source": [
    "Nous considérons seulement l'attribut l'IMC\n",
    "\n",
    "On met de côté  les 50 dernières données  pour tester la qualité d'apprentissage. L'apprentissage sera fait sur le reste de données\n",
    " \n",
    "Mettez les données d'apprentissage sur la variable X_train et les données de test sur X_test\n",
    "\n",
    "Mettez les étiquettes de test sur y_test et celles d'apprentissage sur y_train\n",
    "\n",
    "Affichez les 5 premiers  éléments de X_train et y_train"
   ]
  },
  {
   "cell_type": "code",
   "execution_count": 3,
   "id": "46eb7657",
   "metadata": {},
   "outputs": [
    {
     "ename": "NameError",
     "evalue": "name 'X' is not defined",
     "output_type": "error",
     "traceback": [
      "\u001b[1;31m---------------------------------------------------------------------------\u001b[0m",
      "\u001b[1;31mNameError\u001b[0m                                 Traceback (most recent call last)",
      "Cell \u001b[1;32mIn[3], line 1\u001b[0m\n\u001b[1;32m----> 1\u001b[0m X_train \u001b[38;5;241m=\u001b[39m \u001b[43mX\u001b[49m[:\u001b[38;5;241m-\u001b[39m\u001b[38;5;241m50\u001b[39m,\u001b[38;5;241m2\u001b[39m]\n\u001b[0;32m      2\u001b[0m X_test \u001b[38;5;241m=\u001b[39m X[\u001b[38;5;241m-\u001b[39m\u001b[38;5;241m50\u001b[39m:,\u001b[38;5;241m2\u001b[39m]\n\u001b[0;32m      3\u001b[0m X_train \u001b[38;5;241m=\u001b[39m X_train\u001b[38;5;241m.\u001b[39mreshape(\u001b[38;5;28mlen\u001b[39m(X_train),\u001b[38;5;241m1\u001b[39m)\n",
      "\u001b[1;31mNameError\u001b[0m: name 'X' is not defined"
     ]
    }
   ],
   "source": [
    "X_train = X[:-50,2]\n",
    "X_test = X[-50:,2]\n",
    "X_train = X_train.reshape(len(X_train),1)\n",
    "X_test = X_test.reshape(len(X_test),1)\n",
    "y_train = y[:-50]\n",
    "y_test = y[-50:]"
   ]
  },
  {
   "cell_type": "code",
   "execution_count": null,
   "id": "145887e8",
   "metadata": {},
   "outputs": [],
   "source": []
  },
  {
   "cell_type": "markdown",
   "id": "49f1dd46",
   "metadata": {},
   "source": [
    "Proposez un modèle de régression linéaire pour prédire l'étiquette (y) en fonction de la valeur d'IMC (x):\n",
    "\n",
    "y=ax+b\n",
    "\n",
    "Affichez  les valeurs  de  a et b\n",
    "\n"
   ]
  },
  {
   "cell_type": "code",
   "execution_count": null,
   "id": "0edd7dcc",
   "metadata": {},
   "outputs": [],
   "source": []
  },
  {
   "cell_type": "markdown",
   "id": "96314904",
   "metadata": {},
   "source": [
    "Mettez les prédictions pour les données  X_test sur le vecteur y_pred_test\n",
    "\n",
    "Dessinez la figure  où l'axe x  est les données X_test, l'axe y est les étiquettes. Sur cette figure desssinez  2 courbes une pour y_test et une pour y_pred_test\n",
    "\n",
    "A la vue des graphiques, pensez-vous que le modèle linéaire est bien adapté?\n",
    "\n"
   ]
  },
  {
   "cell_type": "code",
   "execution_count": null,
   "id": "c298c476",
   "metadata": {},
   "outputs": [],
   "source": [
    "# représentation graphique:\n",
    "plt.figure(figsize=(10,6))\n",
    "plt.plot(X_test, y_test, '.g')\n",
    "plt.plot(X_test, y_pred_test, '*y')\n",
    "plt.xlabel(\"x\")\n",
    "plt.ylabel(\"y\")\n",
    "plt.title('diabete avec données IMC')\n",
    "plt.legend([\"Donnees_test\",\"test_prediction\"]);\n",
    "plt.show()"
   ]
  },
  {
   "cell_type": "markdown",
   "id": "0c64752d",
   "metadata": {},
   "source": [
    "Calculez l'erreur MSE, r2score sur les données  de test. \n"
   ]
  },
  {
   "cell_type": "code",
   "execution_count": null,
   "id": "3ae032f4",
   "metadata": {},
   "outputs": [],
   "source": []
  },
  {
   "cell_type": "markdown",
   "id": "20048eb6",
   "metadata": {},
   "source": [
    "Faites la regression  par la méthode de descente de gradient stochastique \n",
    "en prenant max_iter=10000, tol=1e-3\n",
    "\n",
    "#from sklearn.linear_model import SGDRegressor\n",
    "\n",
    "#sgd = SGDRegressor(max_iter=10000, tol=1e-3)\n",
    "\n",
    "\n",
    "Calculez l'erreur MSE, r2score sur les données  de test. \n",
    "\n",
    "Dessinez la figure comme vous avez fait pour la méthode précédente"
   ]
  },
  {
   "cell_type": "code",
   "execution_count": null,
   "id": "de914bbb",
   "metadata": {},
   "outputs": [],
   "source": []
  },
  {
   "cell_type": "markdown",
   "id": "8c80c2d2",
   "metadata": {},
   "source": [
    "Vous utilisez la méthode de le plus proches voisins avec  k=1, k=2, k=3 pour faire la régression et comparez les MSE sur les données test. Quelle méthode donne le meilleur résultat pour cet ensemble de données d'apprentissage\n",
    "\n",
    "#from sklearn.neighbors import KNeighborsRegressor\n",
    "\n",
    "#reg1 = KNeighborsRegressor(n_neighbors=1)\n"
   ]
  },
  {
   "cell_type": "code",
   "execution_count": null,
   "id": "0f5d20b5",
   "metadata": {},
   "outputs": [],
   "source": [
    "\n"
   ]
  },
  {
   "cell_type": "markdown",
   "id": "3e1da993",
   "metadata": {},
   "source": [
    " En utilisant \n",
    " from sklearn.preprocessing import PolynomialFeatures\n",
    " vous faites la régression en prénant un polynôme de degré 7 puis de degré 10.\n",
    " \n",
    " Avez-vous trouvé de meilleurs résultats?\n",
    " \n",
    "#from sklearn.preprocessing import PolynomialFeatures\n",
    "\n",
    "#trans = PolynomialFeatures(degree=7)\n",
    "\n",
    "#data_train = trans.fit_transform(X_train)"
   ]
  },
  {
   "cell_type": "code",
   "execution_count": null,
   "id": "36b2a1fc",
   "metadata": {},
   "outputs": [],
   "source": []
  },
  {
   "cell_type": "markdown",
   "id": "99991ddb",
   "metadata": {},
   "source": [
    "Vous faites l'apprentissage en prénant tous les attributs. Vous devez donc changér X_train, X_test\n",
    "\n",
    "Vous faites les regressions avec\n",
    "\n",
    "-regression linéaire\n",
    "\n",
    "-descente de gradient stochastique\n",
    "\n",
    "-le plus proches voisins k=1, k=2, k=3, k=4\n",
    "\n",
    "Calculez les r2scores MSEs sur les données de test pour chacune des méthodes"
   ]
  },
  {
   "cell_type": "code",
   "execution_count": null,
   "id": "a9aaf3f4",
   "metadata": {},
   "outputs": [],
   "source": []
  },
  {
   "cell_type": "code",
   "execution_count": null,
   "id": "64e7fb11",
   "metadata": {},
   "outputs": [],
   "source": []
  }
 ],
 "metadata": {
  "kernelspec": {
   "display_name": "Python 3",
   "language": "python",
   "name": "python3"
  },
  "language_info": {
   "codemirror_mode": {
    "name": "ipython",
    "version": 3
   },
   "file_extension": ".py",
   "mimetype": "text/x-python",
   "name": "python",
   "nbconvert_exporter": "python",
   "pygments_lexer": "ipython3",
   "version": "3.9.0"
  }
 },
 "nbformat": 4,
 "nbformat_minor": 5
}
