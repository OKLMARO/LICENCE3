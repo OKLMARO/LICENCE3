{
 "cells": [
  {
   "cell_type": "code",
   "execution_count": 1,
   "id": "94441047",
   "metadata": {},
   "outputs": [],
   "source": [
    "import pandas as pd, numpy as np"
   ]
  },
  {
   "cell_type": "code",
   "execution_count": 2,
   "id": "a0c057c4",
   "metadata": {},
   "outputs": [],
   "source": [
    "#Lecture à partir du fichier\n",
    "data_f = pd.read_csv('diabetes.csv')\n"
   ]
  },
  {
   "cell_type": "code",
   "execution_count": 3,
   "id": "03cd357a",
   "metadata": {},
   "outputs": [
    {
     "data": {
      "text/html": [
       "<div>\n",
       "<style scoped>\n",
       "    .dataframe tbody tr th:only-of-type {\n",
       "        vertical-align: middle;\n",
       "    }\n",
       "\n",
       "    .dataframe tbody tr th {\n",
       "        vertical-align: top;\n",
       "    }\n",
       "\n",
       "    .dataframe thead th {\n",
       "        text-align: right;\n",
       "    }\n",
       "</style>\n",
       "<table border=\"1\" class=\"dataframe\">\n",
       "  <thead>\n",
       "    <tr style=\"text-align: right;\">\n",
       "      <th></th>\n",
       "      <th>Pregnancies</th>\n",
       "      <th>Glucose</th>\n",
       "      <th>BloodPressure</th>\n",
       "      <th>SkinThickness</th>\n",
       "      <th>Insulin</th>\n",
       "      <th>BMI</th>\n",
       "      <th>DiabetesPedigreeFunction</th>\n",
       "      <th>Age</th>\n",
       "      <th>Outcome</th>\n",
       "    </tr>\n",
       "  </thead>\n",
       "  <tbody>\n",
       "    <tr>\n",
       "      <th>0</th>\n",
       "      <td>6</td>\n",
       "      <td>148</td>\n",
       "      <td>72</td>\n",
       "      <td>35</td>\n",
       "      <td>0</td>\n",
       "      <td>33.6</td>\n",
       "      <td>0.627</td>\n",
       "      <td>50</td>\n",
       "      <td>1</td>\n",
       "    </tr>\n",
       "    <tr>\n",
       "      <th>1</th>\n",
       "      <td>1</td>\n",
       "      <td>85</td>\n",
       "      <td>66</td>\n",
       "      <td>29</td>\n",
       "      <td>0</td>\n",
       "      <td>26.6</td>\n",
       "      <td>0.351</td>\n",
       "      <td>31</td>\n",
       "      <td>0</td>\n",
       "    </tr>\n",
       "    <tr>\n",
       "      <th>2</th>\n",
       "      <td>8</td>\n",
       "      <td>183</td>\n",
       "      <td>64</td>\n",
       "      <td>0</td>\n",
       "      <td>0</td>\n",
       "      <td>23.3</td>\n",
       "      <td>0.672</td>\n",
       "      <td>32</td>\n",
       "      <td>1</td>\n",
       "    </tr>\n",
       "    <tr>\n",
       "      <th>3</th>\n",
       "      <td>1</td>\n",
       "      <td>89</td>\n",
       "      <td>66</td>\n",
       "      <td>23</td>\n",
       "      <td>94</td>\n",
       "      <td>28.1</td>\n",
       "      <td>0.167</td>\n",
       "      <td>21</td>\n",
       "      <td>0</td>\n",
       "    </tr>\n",
       "    <tr>\n",
       "      <th>4</th>\n",
       "      <td>0</td>\n",
       "      <td>137</td>\n",
       "      <td>40</td>\n",
       "      <td>35</td>\n",
       "      <td>168</td>\n",
       "      <td>43.1</td>\n",
       "      <td>2.288</td>\n",
       "      <td>33</td>\n",
       "      <td>1</td>\n",
       "    </tr>\n",
       "  </tbody>\n",
       "</table>\n",
       "</div>"
      ],
      "text/plain": [
       "   Pregnancies  Glucose  BloodPressure  SkinThickness  Insulin   BMI  \\\n",
       "0            6      148             72             35        0  33.6   \n",
       "1            1       85             66             29        0  26.6   \n",
       "2            8      183             64              0        0  23.3   \n",
       "3            1       89             66             23       94  28.1   \n",
       "4            0      137             40             35      168  43.1   \n",
       "\n",
       "   DiabetesPedigreeFunction  Age  Outcome  \n",
       "0                     0.627   50        1  \n",
       "1                     0.351   31        0  \n",
       "2                     0.672   32        1  \n",
       "3                     0.167   21        0  \n",
       "4                     2.288   33        1  "
      ]
     },
     "execution_count": 3,
     "metadata": {},
     "output_type": "execute_result"
    }
   ],
   "source": [
    "#Afficher dataframe\n",
    "data_f.head(5)"
   ]
  },
  {
   "cell_type": "code",
   "execution_count": 4,
   "id": "e9db0407",
   "metadata": {},
   "outputs": [
    {
     "data": {
      "text/plain": [
       "pandas.core.frame.DataFrame"
      ]
     },
     "execution_count": 4,
     "metadata": {},
     "output_type": "execute_result"
    }
   ],
   "source": [
    "#Afficher le type de data_f\n",
    "type(data_f)\n"
   ]
  },
  {
   "cell_type": "code",
   "execution_count": 5,
   "id": "67f56b57",
   "metadata": {},
   "outputs": [],
   "source": [
    "#Construire  le jeu de données\n",
    "feature = [\"Pregnancies\",\n",
    "           \"Insulin\",\"BMI\",\"Age\",\"Glucose\", \"BloodPressure\",\"SkinThickness\"]\n",
    "\n",
    "X = data_f[feature]\n",
    "y = data_f.Outcome"
   ]
  },
  {
   "cell_type": "code",
   "execution_count": 6,
   "id": "eacf2cdd",
   "metadata": {},
   "outputs": [
    {
     "name": "stdout",
     "output_type": "stream",
     "text": [
      "     Pregnancies  Insulin   BMI  Age  Glucose  BloodPressure  SkinThickness\n",
      "0              6        0  33.6   50      148             72             35\n",
      "1              1        0  26.6   31       85             66             29\n",
      "2              8        0  23.3   32      183             64              0\n",
      "3              1       94  28.1   21       89             66             23\n",
      "4              0      168  43.1   33      137             40             35\n",
      "..           ...      ...   ...  ...      ...            ...            ...\n",
      "763           10      180  32.9   63      101             76             48\n",
      "764            2        0  36.8   27      122             70             27\n",
      "765            5      112  26.2   30      121             72             23\n",
      "766            1        0  30.1   47      126             60              0\n",
      "767            1        0  30.4   23       93             70             31\n",
      "\n",
      "[768 rows x 7 columns]\n"
     ]
    }
   ],
   "source": [
    "print(X)\n"
   ]
  },
  {
   "cell_type": "markdown",
   "id": "a9f385a3",
   "metadata": {},
   "source": [
    "Définir X_train (75 %), X_test, y_train, y_test \n",
    "\n",
    "Apprentisage avec Arbre de Décision de profondeur 3\n",
    "\n",
    "Afficher le score\n",
    "\n",
    "Quelle est l'estimation pour la nouvelle donnée Xnew=[1, 50,27,25,88,70,20]\n",
    "\n",
    "Afficher l'arbre de décision et analyser les mesures affichées (gini, samples, value)"
   ]
  },
  {
   "cell_type": "code",
   "execution_count": 1,
   "id": "394e0142",
   "metadata": {},
   "outputs": [
    {
     "ename": "NameError",
     "evalue": "name 'iris' is not defined",
     "output_type": "error",
     "traceback": [
      "\u001b[1;31m---------------------------------------------------------------------------\u001b[0m",
      "\u001b[1;31mNameError\u001b[0m                                 Traceback (most recent call last)",
      "Cell \u001b[1;32mIn[1], line 6\u001b[0m\n\u001b[0;32m      3\u001b[0m \u001b[38;5;28;01mfrom\u001b[39;00m \u001b[38;5;21;01msklearn\u001b[39;00m\u001b[38;5;21;01m.\u001b[39;00m\u001b[38;5;21;01mmetrics\u001b[39;00m \u001b[38;5;28;01mimport\u001b[39;00m accuracy_score, classification_report\n\u001b[0;32m      4\u001b[0m \u001b[38;5;28;01mfrom\u001b[39;00m \u001b[38;5;21;01msklearn\u001b[39;00m\u001b[38;5;21;01m.\u001b[39;00m\u001b[38;5;21;01mtree\u001b[39;00m \u001b[38;5;28;01mimport\u001b[39;00m export_text\n\u001b[1;32m----> 6\u001b[0m X \u001b[38;5;241m=\u001b[39m \u001b[43miris\u001b[49m\u001b[38;5;241m.\u001b[39mdata\n\u001b[0;32m      7\u001b[0m y \u001b[38;5;241m=\u001b[39m iris\u001b[38;5;241m.\u001b[39mtarget\n\u001b[0;32m      8\u001b[0m X_train, X_test, y_train, y_test \u001b[38;5;241m=\u001b[39m train_test_split(X, y, test_size\u001b[38;5;241m=\u001b[39m\u001b[38;5;241m0.25\u001b[39m, random_state\u001b[38;5;241m=\u001b[39m\u001b[38;5;241m42\u001b[39m)\n",
      "\u001b[1;31mNameError\u001b[0m: name 'iris' is not defined"
     ]
    }
   ],
   "source": [
    "from sklearn.model_selection import train_test_split\n",
    "from sklearn.tree import DecisionTreeClassifier\n",
    "from sklearn.metrics import accuracy_score, classification_report\n",
    "from sklearn.tree import export_text\n",
    "\n",
    "X = iris.data\n",
    "y = iris.target\n",
    "X_train, X_test, y_train, y_test = train_test_split(X, y, test_size=0.25, random_state=42)\n",
    "\n",
    "tree = DecisionTreeClassifier(max_depth=3)\n",
    "tree.fit(X_train, y_train)\n",
    "\n",
    "score = tree.score(X_test, y_test)\n",
    "print(\"Score sur l'ensemble de test :\", score)\n",
    "\n",
    "Xnew = [[1, 50, 27, 25, 88, 70, 20]]\n",
    "prediction = tree.predict(Xnew)\n",
    "print(\"Estimation pour la nouvelle donnée Xnew :\", prediction)\n",
    "\n",
    "tree_rules = export_text(tree, feature_names=iris.feature_names)\n",
    "print(\"Arbre de décision :\\n\", tree_rules)"
   ]
  },
  {
   "cell_type": "markdown",
   "id": "bd1f956b",
   "metadata": {},
   "source": [
    " En utilisant la méthode PCA, diminuer la dimension à 3. Comment pouvez-vous savoir  la précision que vous pouvez obtenir avec les données à 3 dimension.  "
   ]
  },
  {
   "cell_type": "code",
   "execution_count": null,
   "id": "c6f9f9af",
   "metadata": {},
   "outputs": [],
   "source": []
  },
  {
   "cell_type": "markdown",
   "id": "bfe6f462",
   "metadata": {},
   "source": [
    "Faites l'apprentissage avec la méthode Arbre de Décision  avec profondeur 3.  Visualisez votre arbre d'apprentissage"
   ]
  },
  {
   "cell_type": "code",
   "execution_count": null,
   "id": "07a429a0",
   "metadata": {},
   "outputs": [],
   "source": []
  },
  {
   "cell_type": "markdown",
   "id": "dda554e1",
   "metadata": {},
   "source": [
    "Quelle est l'estimation  pour la nouvelle donnée\n",
    "Xnew=[1, 50,27,25,88,70,20]"
   ]
  },
  {
   "cell_type": "code",
   "execution_count": null,
   "id": "7ce89275",
   "metadata": {},
   "outputs": [],
   "source": []
  }
 ],
 "metadata": {
  "kernelspec": {
   "display_name": "Python 3 (ipykernel)",
   "language": "python",
   "name": "python3"
  },
  "language_info": {
   "codemirror_mode": {
    "name": "ipython",
    "version": 3
   },
   "file_extension": ".py",
   "mimetype": "text/x-python",
   "name": "python",
   "nbconvert_exporter": "python",
   "pygments_lexer": "ipython3",
   "version": "3.11.3"
  }
 },
 "nbformat": 4,
 "nbformat_minor": 5
}
